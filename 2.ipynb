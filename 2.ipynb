import pandas as pd
import numpy as np
import matplotlib.pyplot as plt
import seaborn as sns
df = pd.read_csv('student2.csv')
print(df.head())
print(df.count())
print(df.info())
print(df.isnull().sum())
df.dropna()
df.fillna(0)
df['class'].fillna('TE')
# mean
df['marks'].fillna(df['marks'].mean())
# median
df['age'].fillna(df['age'].median())
df['class'].value_counts()
df['class'].mode()
df['class'].fillna(df['class'].mode()[0])
df.fillna(method='backfill')
df.fillna(method='pad', inplace=True)
print(df.describe())
